{
 "cells": [
  {
   "cell_type": "code",
   "execution_count": 1,
   "metadata": {},
   "outputs": [
    {
     "name": "stdout",
     "output_type": "stream",
     "text": [
      "Populating the interactive namespace from numpy and matplotlib\n"
     ]
    }
   ],
   "source": [
    "%pylab inline"
   ]
  },
  {
   "cell_type": "code",
   "execution_count": 173,
   "metadata": {},
   "outputs": [],
   "source": [
    "%run cosmohdf5"
   ]
  },
  {
   "cell_type": "code",
   "execution_count": 174,
   "metadata": {},
   "outputs": [],
   "source": [
    "f = File(['/project/projectdirs/desi/cosmosim/proto_sim/IC/Panphasia/v0/1280/DESI_IC_1280.0.hdf5',\n",
    "          '/project/projectdirs/desi/cosmosim/proto_sim/IC/Panphasia/v0/1280/DESI_IC_1280.1.hdf5',\n",
    "         ])"
   ]
  },
  {
   "cell_type": "code",
   "execution_count": 175,
   "metadata": {},
   "outputs": [
    {
     "data": {
      "text/plain": [
       "{'NumFilesPerSnapshot': 128,\n",
       " 'Time': 0.004975124378109453,\n",
       " 'NP_ThisFile': array([       0, 16384000,        0,        0,        0,        0],\n",
       "       dtype=int32),\n",
       " 'NP_Total': array([         0, 2097152000,          0,          0,          0,\n",
       "                 0], dtype=uint32),\n",
       " 'InitialRedshift': 200.0,\n",
       " 'BoxSize': 500.0,\n",
       " 'Omega_M': 0.3137719929218292,\n",
       " 'Omega_DE': 0.6862279772758484,\n",
       " 'Redshift': 200.0,\n",
       " 'ParticleMass.Matter': 5190814733.505249,\n",
       " 'HubbleNow': 108209.87043656301,\n",
       " 'RSDFactor': 0.0018575015309516918,\n",
       " 'GrowthRatio': 0.006320791917611128,\n",
       " 'f_growth': 0.9999998571809057,\n",
       " 'H0': 67.36}"
      ]
     },
     "execution_count": 175,
     "metadata": {},
     "output_type": "execute_result"
    }
   ],
   "source": [
    "f['Header'].attrs"
   ]
  },
  {
   "cell_type": "code",
   "execution_count": 170,
   "metadata": {},
   "outputs": [],
   "source": [
    "ds = Dataset(f['Matter/'], ['Masses', 'Velocity'])"
   ]
  },
  {
   "cell_type": "code",
   "execution_count": 161,
   "metadata": {},
   "outputs": [
    {
     "data": {
      "text/plain": [
       "array([       0, 16384000, 32768000])"
      ]
     },
     "execution_count": 161,
     "metadata": {},
     "output_type": "execute_result"
    }
   ],
   "source": [
    "ds.offsets"
   ]
  },
  {
   "cell_type": "code",
   "execution_count": 162,
   "metadata": {},
   "outputs": [
    {
     "data": {
      "text/plain": [
       "1"
      ]
     },
     "execution_count": 162,
     "metadata": {},
     "output_type": "execute_result"
    }
   ],
   "source": [
    "ds.offsets.searchsorted(16384000-2)"
   ]
  },
  {
   "cell_type": "code",
   "execution_count": 163,
   "metadata": {},
   "outputs": [
    {
     "data": {
      "text/plain": [
       "dtype([('Masses', '<f8'), ('Velocity', '<f8', (3,))])"
      ]
     },
     "execution_count": 163,
     "metadata": {},
     "output_type": "execute_result"
    }
   ],
   "source": [
    "ds.dtype"
   ]
  },
  {
   "cell_type": "code",
   "execution_count": 164,
   "metadata": {},
   "outputs": [
    {
     "data": {
      "text/plain": [
       "array([(5.19081473e+09, [-7569.36035306, -9171.38193988,  2052.97454454])],\n",
       "      dtype=[('Masses', '<f8'), ('Velocity', '<f8', (3,))])"
      ]
     },
     "execution_count": 164,
     "metadata": {},
     "output_type": "execute_result"
    }
   ],
   "source": [
    " ds[0:1]"
   ]
  },
  {
   "cell_type": "code",
   "execution_count": 165,
   "metadata": {},
   "outputs": [
    {
     "data": {
      "text/plain": [
       "array([(5.19081473e+09, [ -5910.04383692, -10672.74399855,  -1275.07600188]),\n",
       "       (5.19081473e+09, [ -3436.22240835,   4070.68238489,  -3255.65914002]),\n",
       "       (5.19081473e+09, [ -5827.16427697,  -7704.32580907,  -1760.13914552])],\n",
       "      dtype=[('Masses', '<f8'), ('Velocity', '<f8', (3,))])"
      ]
     },
     "execution_count": 165,
     "metadata": {},
     "output_type": "execute_result"
    }
   ],
   "source": [
    " ds[16384000-2: 16384000+1]"
   ]
  },
  {
   "cell_type": "code",
   "execution_count": 166,
   "metadata": {},
   "outputs": [
    {
     "data": {
      "text/plain": [
       "array([(5.19081473e+09, [-5827.16427697, -7704.32580907, -1760.13914552])],\n",
       "      dtype=[('Masses', '<f8'), ('Velocity', '<f8', (3,))])"
      ]
     },
     "execution_count": 166,
     "metadata": {},
     "output_type": "execute_result"
    }
   ],
   "source": [
    " ds[16384000: 16384000+1]"
   ]
  },
  {
   "cell_type": "code",
   "execution_count": 167,
   "metadata": {},
   "outputs": [
    {
     "data": {
      "text/plain": [
       "array([(5.19081473e+09, [ -949.58010673,  2957.60348583, -2906.20213883])],\n",
       "      dtype=[('Masses', '<f8'), ('Velocity', '<f8', (3,))])"
      ]
     },
     "execution_count": 167,
     "metadata": {},
     "output_type": "execute_result"
    }
   ],
   "source": [
    " ds[16384000 * 2 - 1: 16384000 * 2]"
   ]
  },
  {
   "cell_type": "code",
   "execution_count": 2,
   "metadata": {},
   "outputs": [],
   "source": [
    "import h5py"
   ]
  },
  {
   "cell_type": "code",
   "execution_count": 176,
   "metadata": {},
   "outputs": [],
   "source": [
    "h = h5py.File('/project/projectdirs/desi/cosmosim/proto_sim/IC/Panphasia/v1/1296/DESI_IC_1296.0.hdf5')"
   ]
  },
  {
   "cell_type": "code",
   "execution_count": 177,
   "metadata": {},
   "outputs": [
    {
     "data": {
      "text/plain": [
       "['Header', 'Matter']"
      ]
     },
     "execution_count": 177,
     "metadata": {},
     "output_type": "execute_result"
    }
   ],
   "source": [
    "list(h.keys())"
   ]
  },
  {
   "cell_type": "code",
   "execution_count": 178,
   "metadata": {},
   "outputs": [
    {
     "data": {
      "text/plain": [
       "[]"
      ]
     },
     "execution_count": 178,
     "metadata": {},
     "output_type": "execute_result"
    }
   ],
   "source": [
    "list(h.attrs.keys())"
   ]
  },
  {
   "cell_type": "code",
   "execution_count": 179,
   "metadata": {},
   "outputs": [
    {
     "data": {
      "text/plain": [
       "['NumFilesPerSnapshot',\n",
       " 'Time',\n",
       " 'InitialRedshift',\n",
       " 'BoxSize',\n",
       " 'Omega_M',\n",
       " 'Omega_DE',\n",
       " 'Redshift',\n",
       " 'ParticleMass.Matter',\n",
       " 'HubbleNow',\n",
       " 'RSDFactor',\n",
       " 'GrowthRatio',\n",
       " 'f_growth',\n",
       " 'NP.Matter',\n",
       " 'H0']"
      ]
     },
     "execution_count": 179,
     "metadata": {},
     "output_type": "execute_result"
    }
   ],
   "source": [
    "list(h['Header'].attrs.keys())"
   ]
  },
  {
   "cell_type": "code",
   "execution_count": 12,
   "metadata": {},
   "outputs": [
    {
     "data": {
      "text/plain": [
       "['Masses', 'ParticleID', 'Position', 'Velocity']"
      ]
     },
     "execution_count": 12,
     "metadata": {},
     "output_type": "execute_result"
    }
   ],
   "source": [
    "list(h['Matter'].keys())"
   ]
  },
  {
   "cell_type": "code",
   "execution_count": 180,
   "metadata": {},
   "outputs": [
    {
     "data": {
      "text/plain": [
       "False"
      ]
     },
     "execution_count": 180,
     "metadata": {},
     "output_type": "execute_result"
    }
   ],
   "source": [
    "'Matter//Masses' in h"
   ]
  },
  {
   "cell_type": "code",
   "execution_count": 183,
   "metadata": {},
   "outputs": [
    {
     "data": {
      "text/plain": [
       "67.36"
      ]
     },
     "execution_count": 183,
     "metadata": {},
     "output_type": "execute_result"
    }
   ],
   "source": [
    "h['Header'].attrs['H0']"
   ]
  },
  {
   "cell_type": "code",
   "execution_count": 185,
   "metadata": {},
   "outputs": [
    {
     "data": {
      "text/plain": [
       "5000925660.133362"
      ]
     },
     "execution_count": 185,
     "metadata": {},
     "output_type": "execute_result"
    }
   ],
   "source": [
    "h['Header'].attrs['ParticleMass.Matter']"
   ]
  },
  {
   "cell_type": "code",
   "execution_count": null,
   "metadata": {},
   "outputs": [],
   "source": []
  }
 ],
 "metadata": {
  "kernelspec": {
   "display_name": "bccp",
   "language": "python",
   "name": "bccp"
  },
  "language_info": {
   "codemirror_mode": {
    "name": "ipython",
    "version": 3
   },
   "file_extension": ".py",
   "mimetype": "text/x-python",
   "name": "python",
   "nbconvert_exporter": "python",
   "pygments_lexer": "ipython3",
   "version": "3.6.7"
  }
 },
 "nbformat": 4,
 "nbformat_minor": 2
}
